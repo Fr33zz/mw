{
  "nbformat": 4,
  "nbformat_minor": 0,
  "metadata": {
    "colab": {
      "name": "Untitled0.ipynb",
      "provenance": [],
      "authorship_tag": "ABX9TyOCfMz2lEhE6h031RkGsd/9",
      "include_colab_link": true
    },
    "kernelspec": {
      "name": "python3",
      "display_name": "Python 3"
    }
  },
  "cells": [
    {
      "cell_type": "markdown",
      "metadata": {
        "id": "view-in-github",
        "colab_type": "text"
      },
      "source": [
        "<a href=\"https://colab.research.google.com/github/Fr33zz/mw/blob/master/20%20Untitled0.ipynb\" target=\"_parent\"><img src=\"https://colab.research.google.com/assets/colab-badge.svg\" alt=\"Open In Colab\"/></a>"
      ]
    },
    {
      "cell_type": "code",
      "metadata": {
        "colab": {
          "base_uri": "https://localhost:8080/"
        },
        "id": "SyC6JdHSp5AX",
        "outputId": "72b4ed96-57d6-4fd6-e835-65540116e99f"
      },
      "source": [
        "import numpy as np\n",
        "import pandas as pd\n",
        "import matplotlib.pyplot as plt\n",
        "%matplotlib inline\n",
        "import seaborn as sns\n",
        "import math\n",
        "from datetime import date\n",
        "import datetime\n",
        "\n",
        "from google.colab import drive\n",
        "drive.mount('/content/drive')"
      ],
      "execution_count": null,
      "outputs": [
        {
          "output_type": "stream",
          "text": [
            "Mounted at /content/drive\n"
          ],
          "name": "stdout"
        }
      ]
    },
    {
      "cell_type": "code",
      "metadata": {
        "id": "r9tz6Uo_Qtzt"
      },
      "source": [
        "d = pd.read_excel('/content/drive/My Drive/analytics/20 mailing about НСВ/Реестр НСВ на 28.01.21 (на досудебку) (2).xlsx')"
      ],
      "execution_count": null,
      "outputs": []
    },
    {
      "cell_type": "code",
      "metadata": {
        "id": "OpuKq6DmQ0Sv"
      },
      "source": [
        "dd = {}\n",
        "\n",
        "def f(x, dd):\n",
        "  try:\n",
        "    dd[x] += 1\n",
        "    return dd[x]\n",
        "  except:\n",
        "    dd[x] = 1\n",
        "    return 1\n",
        "\n",
        "d['counter'] = d['Адрес электронной почты 1'].map(lambda x: f(x, dd))"
      ],
      "execution_count": null,
      "outputs": []
    },
    {
      "cell_type": "code",
      "metadata": {
        "id": "_bNdruODShM9"
      },
      "source": [
        "dd = {i:d[d.counter==i] for i in d.counter.unique()}"
      ],
      "execution_count": null,
      "outputs": []
    },
    {
      "cell_type": "code",
      "metadata": {
        "id": "YX1D69MESti1"
      },
      "source": [
        "with pd.ExcelWriter('/content/drive/My Drive/analytics/20 mailing about НСВ/asd.xlsx') as writer:\n",
        "  [df.iloc[:,:-1].to_excel(writer, sheet_name=str(i)) for i,df in dd.items()]"
      ],
      "execution_count": null,
      "outputs": []
    },
    {
      "cell_type": "code",
      "metadata": {
        "id": "9i0THlswWYtJ",
        "colab": {
          "base_uri": "https://localhost:8080/"
        },
        "outputId": "2822be5f-7935-4d1d-ff84-c4479f9aa83c"
      },
      "source": [
        "d = pd.read_excel('/content/drive/My Drive/analytics/20 mailing about НСВ/Реестр НСВ на 28.01.21 (на досудебку) (2).xlsx')\n",
        "\n",
        "d['mail'] = d['Адрес электронной почты 1'].map(lambda x: x+'_')\n",
        "dd = d.groupby('mail').agg({'Дата':'count'})\n",
        "dd = dd.reset_index().groupby('Дата').agg({'mail':'sum'})\n",
        "\n",
        "dd['mail'].str.split('_')"
      ],
      "execution_count": null,
      "outputs": [
        {
          "output_type": "execute_result",
          "data": {
            "text/plain": [
              "Дата\n",
              "1     [223957@MAIL.RU, 493-930@mail.ru, 79295793349@...\n",
              "2     [463791@GMAIL.COM, ALEKSEY.96.NIKOLAEV@MAIL.RU...\n",
              "3     [8888uli@mail.ru, AGENTKATE@INBOX.RU, DINARA.P...\n",
              "4     [ZHARGALMA70@GMAIL.COM, glebovdv@gmail.com, ty...\n",
              "5     [Albina-Myhametshina@yandex.ru, HELENK598@GMAI...\n",
              "6                                   [REST.NM@MAIL.RU, ]\n",
              "7     [KYNTSWOMAN@MAIL.RU, pEDROGONZALES90@GMAIL.COM...\n",
              "8     [GENNA.VYS@ICLOUD.COM, vladislav.rusu.78@mail....\n",
              "10                              [YVESDELORME@LIST.RU, ]\n",
              "Name: mail, dtype: object"
            ]
          },
          "metadata": {
            "tags": []
          },
          "execution_count": 3
        }
      ]
    },
    {
      "cell_type": "code",
      "metadata": {
        "id": "mYW9xEl41bo4"
      },
      "source": [
        ""
      ],
      "execution_count": null,
      "outputs": []
    }
  ]
}