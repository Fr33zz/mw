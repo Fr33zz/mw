{
  "nbformat": 4,
  "nbformat_minor": 0,
  "metadata": {
    "colab": {
      "name": "megafon",
      "provenance": [],
      "authorship_tag": "ABX9TyOG0SLFUSGFL28RnIGnmbA3",
      "include_colab_link": true
    },
    "kernelspec": {
      "name": "python3",
      "display_name": "Python 3"
    }
  },
  "cells": [
    {
      "cell_type": "markdown",
      "metadata": {
        "id": "view-in-github",
        "colab_type": "text"
      },
      "source": [
        "<a href=\"https://colab.research.google.com/github/Fr33zz/mw/blob/master/17%20megafon.ipynb\" target=\"_parent\"><img src=\"https://colab.research.google.com/assets/colab-badge.svg\" alt=\"Open In Colab\"/></a>"
      ]
    },
    {
      "cell_type": "code",
      "metadata": {
        "id": "FivPSuKMoA32",
        "colab": {
          "base_uri": "https://localhost:8080/"
        },
        "outputId": "dfe9a294-5187-4e20-f7b5-9f95579a38e3"
      },
      "source": [
        "import numpy as np\n",
        "import pandas as pd\n",
        "#import matplotlib.pyplot as plt\n",
        "#%matplotlib inline\n",
        "#import seaborn as sns\n",
        "#import math\n",
        "from datetime import date\n",
        "import datetime\n",
        "\n",
        "from google.colab import drive\n",
        "drive.mount('/content/drive')"
      ],
      "execution_count": null,
      "outputs": [
        {
          "output_type": "stream",
          "text": [
            "Mounted at /content/drive\n"
          ],
          "name": "stdout"
        }
      ]
    },
    {
      "cell_type": "code",
      "metadata": {
        "id": "uRydfgvvoadr"
      },
      "source": [
        "from google.colab import auth\n",
        "auth.authenticate_user()\n",
        "import gspread\n",
        "from oauth2client.client import GoogleCredentials\n",
        "gc = gspread.authorize(GoogleCredentials.get_application_default())"
      ],
      "execution_count": null,
      "outputs": []
    },
    {
      "cell_type": "code",
      "metadata": {
        "id": "VDSWer5aocPj"
      },
      "source": [
        "orders = gc.open_by_url('https://docs.google.com/spreadsheets/d/106Mk7_n9iXmCB-fuPFgpWsV1t7JtoAdPaePi5x8BFTM')\n",
        "\n",
        "payments = gc.open_by_url('https://docs.google.com/spreadsheets/d/1OKkFUxN-a55K52Z6QO0wnZg9SB-_6d3VZ_BXDCYsGYc')\n",
        "\n",
        "closed = gc.open_by_url('https://docs.google.com/spreadsheets/d/1Gs7OkvQLNpt5IDTrsP5PBWbrSTO89zOPysbpbp7uzrQ')\n",
        "\n",
        "sch_pay = gc.open_by_url('https://docs.google.com/spreadsheets/d/1AkH2q9AGbFuaXW3fUlrvvzcObFAr0vOkYdr2sNb4uLw')\n",
        "\n",
        "opened = gc.open_by_url('https://docs.google.com/spreadsheets/d/1xUc4ayCcVNpkT1Bcx8_Hk84g02iM3U5GkxSSbZMMGAk')\n",
        "\n",
        "charge = gc.open_by_url('https://docs.google.com/spreadsheets/d/1gOgXDjkxdjNaE-O-jprV77Tucdqm8uE-vg0NHDxP8xk')\n",
        "\n",
        "def get_data(spreadsheet, list_number=0):\n",
        "  ind = pd.DataFrame(spreadsheet.worksheets()[list_number].get_all_values())\n",
        "  ind = ind.rename(columns=ind.iloc[0]).drop(index=0).reset_index().drop(columns='index')\n",
        "  return ind\n",
        "\n",
        "def get_titles(x, type_=1):\n",
        "  '''type = {0:\"list\", 1:\"df\"}'''\n",
        "  if type_==0:\n",
        "    return [i.title for i in x.worksheets()]\n",
        "  if type_==1:\n",
        "    return pd.DataFrame([i.title for i in x.worksheets()])\n",
        "\n",
        "\n",
        "def to_num(data, columns, print_=False, list_=False):\n",
        "  d = data.copy()\n",
        "  l = []\n",
        "  for i in columns:\n",
        "    try:       \n",
        "      d[i] = d[i].map(lambda x: '.'.join(''.join(''.join(str(x).split('\\xa0')).split(' ')).split(',')) if x!='' else np.nan).astype('float')\n",
        "    except:\n",
        "      l.append(i)\n",
        "      if print_:\n",
        "        print(print_,' : ', i)\n",
        "      else:\n",
        "        None\n",
        "  if list_:\n",
        "    return l, d\n",
        "  else:\n",
        "    return d\n",
        "\n",
        "\n",
        "def to_dates(data, columns, print_=False, list_=False):\n",
        "  d = data.copy()\n",
        "  l = []\n",
        "  for i in columns:\n",
        "    try:\n",
        "      \n",
        "      d[i] = d[i].replace({'':np.nan})\n",
        "      d[i] = d[i].str.split('T').map(lambda x: x[0] if x==x else x)\n",
        "      #d[i] = d[i].str.split('-').map(lambda x: int(x[2]) if x==x else x)\n",
        "      #d[i] = pd.to_datetime(d[i], format='%Y-%m-&d')\n",
        "      d[i] = pd.to_datetime(d[i])\n",
        "    \n",
        "    except:\n",
        "      l.append(i)\n",
        "      if print_:\n",
        "        print(print_, ' : ', i)\n",
        "  if list_:\n",
        "    return l, d\n",
        "  else:\n",
        "    return d\n",
        "\n",
        "#for i in dates:\n",
        "#  d[i] = pd.to_datetime(d[i].replace({'':np.nan}), format='%d.%m.%Y')"
      ],
      "execution_count": null,
      "outputs": []
    },
    {
      "cell_type": "code",
      "metadata": {
        "id": "jZM1cpI5ofKz",
        "colab": {
          "base_uri": "https://localhost:8080/"
        },
        "outputId": "81f21bc4-f983-428f-85b7-140779953be4"
      },
      "source": [
        "#ord = get_data(orders, 0)\n",
        "\n",
        "#clos = pd.concat([get_data(closed, i) for i in [0,2,4,5,6,7]])\n",
        "\n",
        "#pay = get_data(payments, 0)\n",
        "#legal = get_data(payments, 3)\n",
        "\n",
        "#opn = get_data(opened, 0)\n",
        "#loan = get_data(opened, 0)\n",
        "#claim = get_data(opened, 1)\n",
        "\n",
        "mw0 = pd.read_csv('/content/drive/My Drive/analytics/17 new scoring/data2scoring.csv')\n",
        "at0 = pd.read_csv('/content/drive/My Drive/analytics/17 new scoring/data2scoring_AT.csv')"
      ],
      "execution_count": null,
      "outputs": [
        {
          "output_type": "stream",
          "text": [
            "/usr/local/lib/python3.6/dist-packages/IPython/core/interactiveshell.py:2718: DtypeWarning: Columns (29,32,52,60,63,73,74,75,76,77,78,79,80,81,82,91,96,108,113,114,118,119,120,121,122,123,124,125) have mixed types.Specify dtype option on import or set low_memory=False.\n",
            "  interactivity=interactivity, compiler=compiler, result=result)\n",
            "/usr/local/lib/python3.6/dist-packages/IPython/core/interactiveshell.py:2718: DtypeWarning: Columns (44) have mixed types.Specify dtype option on import or set low_memory=False.\n",
            "  interactivity=interactivity, compiler=compiler, result=result)\n"
          ],
          "name": "stderr"
        }
      ]
    },
    {
      "cell_type": "code",
      "metadata": {
        "id": "7kwT7AZtbPE4"
      },
      "source": [
        "#cold[0].str.split('_id').map(len).unique()\n",
        "#cold[cold[0].str.split('amount').map(len)==2]\n",
        "\n",
        "cold = pd.DataFrame(mw0.columns)\n",
        "cold['mw'] = True\n",
        "cold = pd.concat([cold, pd.DataFrame([at0.columns,\n",
        "                                      np.full(at0.shape[1], True)],\n",
        "                                     index=[0,'at']).T,])\\\n",
        "      .reset_index().drop(columns='index')\n",
        "\n",
        "cold = cold.fillna(False)\n",
        "\n",
        "dd = {'date':['_at', '_date', 'date_', '_dt'],\n",
        "      'num':['amount', 'id'],\n",
        "      'string':['state', 'phone', 'email', 'type', 'address', 'name',\n",
        "                'passport', 'masked'],\n",
        "      'json':['scoring_data', 'application_info', 'collected_data',\n",
        "              'partner_request', 'payment_schedule_info', 'address'],\n",
        "      'tables':['agreement', 'users', ]}\n",
        "\n",
        "def set_type(data, names_col, type_dict):\n",
        "  try:\n",
        "    for i in type_dict:\n",
        "      data[i] = False\n",
        "      for j in type_dict[i]:\n",
        "        data.loc[data[data[names_col].str.split(j).map(len)==2].index, i] = True\n",
        "    return data\n",
        "  except:\n",
        "    print('smth went wrong')\n",
        "    return -1\n",
        "\n",
        "cold = set_type(cold, 0, dd)\n",
        "cold['counter'] = cold.iloc[:,2:].sum(axis=1)\n",
        "cold.loc[cold[cold['counter']==2].index,'string'] = False\n",
        "cold['counter'] = cold.iloc[:,2:-1].sum(axis=1)"
      ],
      "execution_count": null,
      "outputs": []
    },
    {
      "cell_type": "code",
      "metadata": {
        "id": "SuRckicyzU1z",
        "colab": {
          "base_uri": "https://localhost:8080/"
        },
        "outputId": "7b04b439-2808-4b21-a12c-7d6920388d91"
      },
      "source": [
        "mw0 = to_num(mw0, cold[cold['mw'] & cold['num']][0].values, 'mw')\n",
        "at0 = to_num(at0, cold[cold['at'] & cold['num']][0].values, 'at')"
      ],
      "execution_count": null,
      "outputs": [
        {
          "output_type": "stream",
          "text": [
            "mw  :  masked_credit_agreement_id\n",
            "mw  :  masked_id\n",
            "mw  :  middle_name\n",
            "mw  :  middle_name.1\n",
            "at  :  masked_id\n",
            "at  :  middle_name\n"
          ],
          "name": "stdout"
        }
      ]
    },
    {
      "cell_type": "code",
      "metadata": {
        "id": "VW9i-aPTMTV-",
        "colab": {
          "base_uri": "https://localhost:8080/"
        },
        "outputId": "541b4387-4b17-4008-fce4-fc1c22e95987"
      },
      "source": [
        "mw0 = to_dates(mw0, cold[cold['mw']&cold['date']][0].values, 'mw')\n",
        "at0 = to_dates(at0, cold[cold['at']&cold['date']][0].values, 'at')"
      ],
      "execution_count": null,
      "outputs": [
        {
          "output_type": "stream",
          "text": [
            "mw  :  expires_at\n",
            "mw  :  deleted_at\n",
            "mw  :  birth_date\n",
            "mw  :  issue_date\n",
            "mw  :  imported_at.1\n",
            "mw  :  deleted_at.1\n",
            "mw  :  birth_date.1\n",
            "mw  :  issue_date.1\n",
            "mw  :  expiration_date\n",
            "mw  :  imported_at.2\n",
            "mw  :  deleted_at.2\n",
            "mw  :  imported_at.3\n",
            "mw  :  expiration_date.1\n",
            "mw  :  deleted_at.3\n",
            "mw  :  deleted_at.4\n",
            "at  :  document_expiration_date\n"
          ],
          "name": "stdout"
        }
      ]
    },
    {
      "cell_type": "code",
      "metadata": {
        "id": "LjvOpigHOyoK"
      },
      "source": [
        "at0['postal_code'] = at0['address'].str.split('postal_code').\\\n",
        "    map(lambda x: x[1][3:9] if x==x and len(x)==2 else np.nan)\n",
        "\n",
        "ind = at0[at0['phone'].isna()].index\n",
        "at0.loc[ind, 'phone'] = at0.loc[ind, 'phone.1']\n",
        "\n",
        "ind = at0[at0['birthday'].isna()].index\n",
        "at0.loc[ind, 'birthday'] = at0.loc[ind, 'date_of_birth']\n",
        "\n",
        "ind = at0[at0['building'].isna()].index\n",
        "at0.loc[ind, 'building'] = at0.loc[ind, 'house_number']\n",
        "\n",
        "at0['phone'] = at0['phone'].map(lambda x: str(int(x)) if x==x else np.nan)\n",
        "mw0['postcode'] = mw0['postcode'].map(lambda x: str(int(x)) if x==x else np.nan)\n",
        "\n",
        "mw0['DISBURSED'] = mw0['agr_state'].notna().map(lambda x: 1 if x else 0)\n",
        "at0['DISBURSED'] = at0['state'].isin(['closed', 'open']).map(lambda x: 1 if x else 0)\n",
        "\n",
        "mw0['AMOUNT'] = mw0['initial_payment_amount']*5/2\n",
        "at0['AMOUNT'] = at0['first_payment_amount']*5/2\n",
        "\n",
        "at0['SOCIAL_DEFAULT'] = (at0['state']=='open').map(lambda x: 1 if x else 0)\n",
        "mw0['SOCIAL_DEFAULT'] = (mw0['agr_state']=='open')&(mw0['created_at'] < datetime.datetime.today() - datetime.timedelta(60))\n",
        "mw0['SOCIAL_DEFAULT'] = mw0['SOCIAL_DEFAULT'].map(lambda x: 1 if x else 0)\n",
        "\n",
        "mw0['FRAUD_DEFAULT'] = mw0['SOCIAL_DEFAULT']*((datetime.datetime.today() - mw0['created_at']).dt.days > 365)\n",
        "at0['FRAUD_DEFAULT'] = at0['SOCIAL_DEFAULT']*((datetime.datetime.today() - at0['created_at']).dt.days > 365)"
      ],
      "execution_count": null,
      "outputs": []
    },
    {
      "cell_type": "code",
      "metadata": {
        "id": "bfIPkVpqz3so",
        "colab": {
          "base_uri": "https://localhost:8080/"
        },
        "outputId": "28db357d-d83c-47db-cbc7-4d4307607d76"
      },
      "source": [
        "at0['first_payment_amount'].map(type).unique()"
      ],
      "execution_count": null,
      "outputs": [
        {
          "output_type": "execute_result",
          "data": {
            "text/plain": [
              "array([<class 'float'>], dtype=object)"
            ]
          },
          "metadata": {
            "tags": []
          },
          "execution_count": 75
        }
      ]
    },
    {
      "cell_type": "code",
      "metadata": {
        "id": "swze7cNKf2n3"
      },
      "source": [
        "cmw = [i for i in 'after4, state, agr_state, initial_payment_amount, masked_credit_agreement_id, \\\n",
        "phone, created_at, closed_at, paused_at, birth_date, sex, city, street, building, \\\n",
        "housing, apartment, postcode, partner_id, DISBURSED'.split(', ')]\n",
        "\n",
        "cat = [i for i in 'after4, state, created_at, masked_id, first_payment_amount, \\\n",
        "phone, birthday, postal_code, apartment, city, street, \\\n",
        "house_number, sex, DISBURSED'.split(', ')]"
      ],
      "execution_count": null,
      "outputs": []
    },
    {
      "cell_type": "code",
      "metadata": {
        "id": "a6atQTyRYHAh"
      },
      "source": [
        "cmw = {#'after4': '',\n",
        " 'masked_credit_agreement_id': 'ID',\n",
        " 'created_at': 'DATE_APP',\n",
        " 'phone': 'MOB_NUM',\n",
        " 'AMOUNT':'AMOUNT',\n",
        " 'DISBURSED':'DISBURSED',\n",
        " 'SOCIAL_DEFAULT':'SOCIAL_DEFAULT',\n",
        " 'FRAUD_DEFAULT':'FRAUD_DEFAULT',\n",
        " 'partner_id': 'CHANNEL_ID',\n",
        " 'postcode': 'HOME_ZIP',\n",
        " 'building': 'HOME_HOUSE',\n",
        " 'street': 'HOME_STREET',\n",
        " 'city': 'HOME_CITY',\n",
        " 'birth_date': 'DATE_OF_BIRTH'}\n",
        "\n",
        "\n",
        "\n",
        "cat = {#'after4': '',\n",
        " 'masked_id': 'ID',\n",
        " 'created_at': 'DATE_APP',\n",
        " 'phone': 'MOB_NUM',\n",
        " 'AMOUNT':'AMOUNT',\n",
        " 'DISBURSED':'DISBURSED',\n",
        " 'SOCIAL_DEFAULT':'SOCIAL_DEFAULT',\n",
        " 'FRAUD_DEFAULT':'FRAUD_DEFAULT',\n",
        " 'postal_code': 'HOME_ZIP',\n",
        " 'house_number': 'HOME_HOUSE',\n",
        " 'street': 'HOME_STREET',\n",
        " 'city': 'HOME_CITY',\n",
        " 'birthday': 'DATE_OF_BIRTH'}\n"
      ],
      "execution_count": null,
      "outputs": []
    },
    {
      "cell_type": "code",
      "metadata": {
        "id": "o9ciOy-AoL7X"
      },
      "source": [
        "path = '/content/drive/My Drive/analytics/17 new scoring/data2megafon.csv'\n",
        "\n",
        "pd.concat([mw0[mw0['after4']][cmw.keys()].rename(columns=cmw),\n",
        "           at0[at0['after4']][cat.keys()].rename(columns=cat)])\\\n",
        "    .reset_index().drop(columns=['index']).to_csv(path)"
      ],
      "execution_count": null,
      "outputs": []
    },
    {
      "cell_type": "code",
      "metadata": {
        "id": "jllun05L4zEG",
        "colab": {
          "base_uri": "https://localhost:8080/",
          "height": 609
        },
        "outputId": "7b563787-8759-480b-b746-d1ccf80341fd"
      },
      "source": [
        "mw0[mw0['after4']][cmw.keys()].rename(columns=cmw)"
      ],
      "execution_count": null,
      "outputs": [
        {
          "output_type": "execute_result",
          "data": {
            "text/html": [
              "<div>\n",
              "<style scoped>\n",
              "    .dataframe tbody tr th:only-of-type {\n",
              "        vertical-align: middle;\n",
              "    }\n",
              "\n",
              "    .dataframe tbody tr th {\n",
              "        vertical-align: top;\n",
              "    }\n",
              "\n",
              "    .dataframe thead th {\n",
              "        text-align: right;\n",
              "    }\n",
              "</style>\n",
              "<table border=\"1\" class=\"dataframe\">\n",
              "  <thead>\n",
              "    <tr style=\"text-align: right;\">\n",
              "      <th></th>\n",
              "      <th>ID</th>\n",
              "      <th>DATE_APP</th>\n",
              "      <th>MOB_NUM</th>\n",
              "      <th>AMOUNT</th>\n",
              "      <th>DISBURSED</th>\n",
              "      <th>SOCIAL_DEFAULT</th>\n",
              "      <th>FRAUD_DEFAULT</th>\n",
              "      <th>CHANNEL_ID</th>\n",
              "      <th>HOME_ZIP</th>\n",
              "      <th>HOME_HOUSE</th>\n",
              "      <th>HOME_STREET</th>\n",
              "      <th>HOME_CITY</th>\n",
              "      <th>DATE_OF_BIRTH</th>\n",
              "    </tr>\n",
              "  </thead>\n",
              "  <tbody>\n",
              "    <tr>\n",
              "      <th>1</th>\n",
              "      <td>MW333333335</td>\n",
              "      <td>2017-04-13</td>\n",
              "      <td>79175524108</td>\n",
              "      <td>3007.5</td>\n",
              "      <td>0</td>\n",
              "      <td>0</td>\n",
              "      <td>0</td>\n",
              "      <td>2.0</td>\n",
              "      <td>125315</td>\n",
              "      <td>23/5</td>\n",
              "      <td>Усиевича</td>\n",
              "      <td>Москва</td>\n",
              "      <td>1986-06-01</td>\n",
              "    </tr>\n",
              "    <tr>\n",
              "      <th>2</th>\n",
              "      <td>MW333333337</td>\n",
              "      <td>2017-04-14</td>\n",
              "      <td>79175524108</td>\n",
              "      <td>3012.5</td>\n",
              "      <td>0</td>\n",
              "      <td>0</td>\n",
              "      <td>0</td>\n",
              "      <td>2.0</td>\n",
              "      <td>125319</td>\n",
              "      <td>23/5</td>\n",
              "      <td>Усиевича</td>\n",
              "      <td>Москва</td>\n",
              "      <td>1986-06-01</td>\n",
              "    </tr>\n",
              "    <tr>\n",
              "      <th>3</th>\n",
              "      <td>MW333333339</td>\n",
              "      <td>2017-04-14</td>\n",
              "      <td>79175524108</td>\n",
              "      <td>3227.5</td>\n",
              "      <td>0</td>\n",
              "      <td>0</td>\n",
              "      <td>0</td>\n",
              "      <td>2.0</td>\n",
              "      <td>125319</td>\n",
              "      <td>23/5</td>\n",
              "      <td>Усиевича</td>\n",
              "      <td>Москва</td>\n",
              "      <td>1986-06-01</td>\n",
              "    </tr>\n",
              "    <tr>\n",
              "      <th>4</th>\n",
              "      <td>MW333333331</td>\n",
              "      <td>2017-04-17</td>\n",
              "      <td>79262314278</td>\n",
              "      <td>5717.5</td>\n",
              "      <td>0</td>\n",
              "      <td>0</td>\n",
              "      <td>0</td>\n",
              "      <td>2.0</td>\n",
              "      <td>111116</td>\n",
              "      <td>4</td>\n",
              "      <td>Авиамоторная</td>\n",
              "      <td>Москва</td>\n",
              "      <td>1977-10-21</td>\n",
              "    </tr>\n",
              "    <tr>\n",
              "      <th>5</th>\n",
              "      <td>MW333333332</td>\n",
              "      <td>2017-04-17</td>\n",
              "      <td>79999999999</td>\n",
              "      <td>8947.5</td>\n",
              "      <td>0</td>\n",
              "      <td>0</td>\n",
              "      <td>0</td>\n",
              "      <td>2.0</td>\n",
              "      <td>NaN</td>\n",
              "      <td>NaN</td>\n",
              "      <td>NaN</td>\n",
              "      <td>NaN</td>\n",
              "      <td>NaN</td>\n",
              "    </tr>\n",
              "    <tr>\n",
              "      <th>...</th>\n",
              "      <td>...</td>\n",
              "      <td>...</td>\n",
              "      <td>...</td>\n",
              "      <td>...</td>\n",
              "      <td>...</td>\n",
              "      <td>...</td>\n",
              "      <td>...</td>\n",
              "      <td>...</td>\n",
              "      <td>...</td>\n",
              "      <td>...</td>\n",
              "      <td>...</td>\n",
              "      <td>...</td>\n",
              "      <td>...</td>\n",
              "    </tr>\n",
              "    <tr>\n",
              "      <th>61950</th>\n",
              "      <td>MW333395363</td>\n",
              "      <td>2020-11-08</td>\n",
              "      <td>79867880830</td>\n",
              "      <td>4655.0</td>\n",
              "      <td>1</td>\n",
              "      <td>0</td>\n",
              "      <td>0</td>\n",
              "      <td>27.0</td>\n",
              "      <td>461047</td>\n",
              "      <td>22</td>\n",
              "      <td>микрорайон 7а</td>\n",
              "      <td>город Бузулук</td>\n",
              "      <td>1998-09-02</td>\n",
              "    </tr>\n",
              "    <tr>\n",
              "      <th>61951</th>\n",
              "      <td>MW333395364</td>\n",
              "      <td>2020-11-08</td>\n",
              "      <td>79819517328</td>\n",
              "      <td>15255.0</td>\n",
              "      <td>0</td>\n",
              "      <td>0</td>\n",
              "      <td>0</td>\n",
              "      <td>10.0</td>\n",
              "      <td>NaN</td>\n",
              "      <td>NaN</td>\n",
              "      <td>NaN</td>\n",
              "      <td>NaN</td>\n",
              "      <td>NaN</td>\n",
              "    </tr>\n",
              "    <tr>\n",
              "      <th>61952</th>\n",
              "      <td>MW333395365</td>\n",
              "      <td>2020-11-08</td>\n",
              "      <td>79009913138</td>\n",
              "      <td>5735.0</td>\n",
              "      <td>0</td>\n",
              "      <td>0</td>\n",
              "      <td>0</td>\n",
              "      <td>14.0</td>\n",
              "      <td>NaN</td>\n",
              "      <td>NaN</td>\n",
              "      <td>NaN</td>\n",
              "      <td>NaN</td>\n",
              "      <td>NaN</td>\n",
              "    </tr>\n",
              "    <tr>\n",
              "      <th>61953</th>\n",
              "      <td>MW333395366</td>\n",
              "      <td>2020-11-08</td>\n",
              "      <td>79168684557</td>\n",
              "      <td>20125.0</td>\n",
              "      <td>0</td>\n",
              "      <td>0</td>\n",
              "      <td>0</td>\n",
              "      <td>10.0</td>\n",
              "      <td>428038</td>\n",
              "      <td>35</td>\n",
              "      <td>бульвар А.Миттова</td>\n",
              "      <td>город Чебоксары</td>\n",
              "      <td>1983-06-04</td>\n",
              "    </tr>\n",
              "    <tr>\n",
              "      <th>61954</th>\n",
              "      <td>MW333395367</td>\n",
              "      <td>2020-11-08</td>\n",
              "      <td>79508421122</td>\n",
              "      <td>2440.0</td>\n",
              "      <td>0</td>\n",
              "      <td>0</td>\n",
              "      <td>0</td>\n",
              "      <td>14.0</td>\n",
              "      <td>NaN</td>\n",
              "      <td>NaN</td>\n",
              "      <td>NaN</td>\n",
              "      <td>NaN</td>\n",
              "      <td>NaN</td>\n",
              "    </tr>\n",
              "  </tbody>\n",
              "</table>\n",
              "<p>61948 rows × 13 columns</p>\n",
              "</div>"
            ],
            "text/plain": [
              "                ID   DATE_APP  ...        HOME_CITY  DATE_OF_BIRTH\n",
              "1      MW333333335 2017-04-13  ...           Москва     1986-06-01\n",
              "2      MW333333337 2017-04-14  ...           Москва     1986-06-01\n",
              "3      MW333333339 2017-04-14  ...           Москва     1986-06-01\n",
              "4      MW333333331 2017-04-17  ...           Москва     1977-10-21\n",
              "5      MW333333332 2017-04-17  ...              NaN            NaN\n",
              "...            ...        ...  ...              ...            ...\n",
              "61950  MW333395363 2020-11-08  ...    город Бузулук     1998-09-02\n",
              "61951  MW333395364 2020-11-08  ...              NaN            NaN\n",
              "61952  MW333395365 2020-11-08  ...              NaN            NaN\n",
              "61953  MW333395366 2020-11-08  ...  город Чебоксары     1983-06-04\n",
              "61954  MW333395367 2020-11-08  ...              NaN            NaN\n",
              "\n",
              "[61948 rows x 13 columns]"
            ]
          },
          "metadata": {
            "tags": []
          },
          "execution_count": 80
        }
      ]
    },
    {
      "cell_type": "code",
      "metadata": {
        "id": "BSbrbefFlMVY"
      },
      "source": [
        ""
      ],
      "execution_count": null,
      "outputs": []
    }
  ]
}